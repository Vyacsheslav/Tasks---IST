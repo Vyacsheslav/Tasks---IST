{
 "cells": [
  {
   "cell_type": "markdown",
   "id": "515030cf-ed56-4ed3-811e-bc8ada1d8a5d",
   "metadata": {},
   "source": [
    "##### Импорт модуля pandas. обьявляя выражение pd для вызова обьектов pandas"
   ]
  },
  {
   "cell_type": "code",
   "execution_count": 1,
   "id": "2538537a-0201-47b7-a96b-812ffc7ea8af",
   "metadata": {},
   "outputs": [],
   "source": [
    "import pandas as pd"
   ]
  },
  {
   "cell_type": "markdown",
   "id": "e2536581-e60b-4cad-8817-2f386dafb902",
   "metadata": {},
   "source": [
    "##### Создание таблицы из csv файла"
   ]
  },
  {
   "cell_type": "code",
   "execution_count": 2,
   "id": "931d69ae-167d-4e3e-bac1-19c843c1dd19",
   "metadata": {},
   "outputs": [],
   "source": [
    "df = pd.read_csv(\"nbaNew.csv\")"
   ]
  },
  {
   "cell_type": "markdown",
   "id": "546fb609-67ee-4530-865b-5e0c5be55614",
   "metadata": {},
   "source": [
    "##### Визуализация данных с помощью функции head()"
   ]
  },
  {
   "cell_type": "code",
   "execution_count": null,
   "id": "ff1512d1-d8d3-4635-964a-d37c277a9e59",
   "metadata": {},
   "outputs": [],
   "source": [
    "df.head(10)"
   ]
  },
  {
   "cell_type": "markdown",
   "id": "570c637d-f33f-4587-8863-19c41bf1548d",
   "metadata": {},
   "source": [
    "##### Перебор строк используя функцию iterrows()"
   ]
  },
  {
   "cell_type": "code",
   "execution_count": null,
   "id": "857ea934-835b-42e8-946b-81e096dc5224",
   "metadata": {},
   "outputs": [],
   "source": [
    "for i, j in df.iterrows():\n",
    "    print(i, j)\n",
    "    print()"
   ]
  },
  {
   "cell_type": "markdown",
   "id": "06374b37-0eaa-4d42-acd8-d84fa80f5b59",
   "metadata": {},
   "source": [
    "##### Перебор строк используя функцию iteritems()"
   ]
  },
  {
   "cell_type": "code",
   "execution_count": null,
   "id": "92fcd7f4-4320-4ed0-ae6d-0f0be5c57092",
   "metadata": {},
   "outputs": [],
   "source": [
    "for i, j in df.iteritems():\n",
    "    print(i, j)\n",
    "    print()"
   ]
  },
  {
   "cell_type": "markdown",
   "id": "87c862b5-ac87-43ea-8cb0-25f96ec7e014",
   "metadata": {},
   "source": [
    "##### Перебор строк используя функцию itertuples()"
   ]
  },
  {
   "cell_type": "code",
   "execution_count": null,
   "id": "efe8098c-2bbb-4dc7-98da-bb3f5dcd20b7",
   "metadata": {},
   "outputs": [],
   "source": [
    "for i in df.itertuples():\n",
    "    print(i)"
   ]
  },
  {
   "cell_type": "markdown",
   "id": "acd146bb-72ac-45b7-bb86-6977d0ecdd95",
   "metadata": {},
   "source": [
    "##### Создание списков столбцов"
   ]
  },
  {
   "cell_type": "code",
   "execution_count": null,
   "id": "7dc1b258-bdbf-4dda-ad9b-7f6d6ecf4ab0",
   "metadata": {},
   "outputs": [],
   "source": [
    "columns = list(df)"
   ]
  },
  {
   "cell_type": "markdown",
   "id": "1406e2c4-1df7-4388-863d-7991b00af538",
   "metadata": {},
   "source": [
    "##### Перебор столбцов таблицы"
   ]
  },
  {
   "cell_type": "code",
   "execution_count": null,
   "id": "2f7563c6-0457-454b-9b16-5eb22129dbc4",
   "metadata": {},
   "outputs": [],
   "source": [
    "for i in columns:\n",
    "    print(df[i][0])"
   ]
  },
  {
   "cell_type": "code",
   "execution_count": null,
   "id": "22394a85-bf7f-4d3c-a0b8-20e05381a24f",
   "metadata": {},
   "outputs": [],
   "source": []
  }
 ],
 "metadata": {
  "kernelspec": {
   "display_name": "Python 3 (ipykernel)",
   "language": "python",
   "name": "python3"
  },
  "language_info": {
   "codemirror_mode": {
    "name": "ipython",
    "version": 3
   },
   "file_extension": ".py",
   "mimetype": "text/x-python",
   "name": "python",
   "nbconvert_exporter": "python",
   "pygments_lexer": "ipython3",
   "version": "3.11.2"
  }
 },
 "nbformat": 4,
 "nbformat_minor": 5
}
