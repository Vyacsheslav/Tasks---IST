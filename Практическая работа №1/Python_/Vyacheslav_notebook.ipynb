{
 "cells": [
  {
   "cell_type": "code",
   "execution_count": 1,
   "id": "7206cfcb-c5a6-41a0-b370-a7570ecc42ae",
   "metadata": {},
   "outputs": [
    {
     "name": "stdout",
     "output_type": "stream",
     "text": [
      "Hello world!\n"
     ]
    }
   ],
   "source": [
    "print(\"Hello world!\")"
   ]
  },
  {
   "cell_type": "code",
   "execution_count": 4,
   "id": "11d3b7d4-b933-4d17-94af-1b15046b5a9a",
   "metadata": {},
   "outputs": [
    {
     "name": "stdout",
     "output_type": "stream",
     "text": [
      "print hello world\n"
     ]
    }
   ],
   "source": [
    "print(\"print hello world\")"
   ]
  },
  {
   "cell_type": "markdown",
   "id": "ea494a7f-1794-4c98-94f5-bee578434fae",
   "metadata": {},
   "source": [
    "# Super big title\n",
    "## Big title\n",
    "### Medium title\n",
    "#### Smal title"
   ]
  },
  {
   "cell_type": "markdown",
   "id": "bc4dd2e4-ae8a-48c4-8a55-c613935185b2",
   "metadata": {},
   "source": [
    "This is *italics*\n",
    "This is **bold**"
   ]
  },
  {
   "cell_type": "markdown",
   "id": "c0455a1d-ba3d-4313-a652-c85ac8216bfe",
   "metadata": {},
   "source": [
    "- item 1\n",
    "- item 2\n",
    "- item 3\n",
    "  - subitem 1"
   ]
  },
  {
   "cell_type": "markdown",
   "id": "6dac30c9-649e-4347-9a8a-79a1985691dd",
   "metadata": {},
   "source": [
    "# Zillow Zestimate: Exploretory Data Analysis\n",
    "This will be an Expoloratory Data Analysis(EDA) on the Zillow Zestimate dataset by Vyacheslav"
   ]
  },
  {
   "cell_type": "markdown",
   "id": "bd0e31e7-616c-4a2a-8705-fb1a085fc854",
   "metadata": {},
   "source": [
    "## Imports\n",
    "We'll start by importing the main useful python libraries for doing an EDA. We have a few here:\n",
    "**numpy** --> Used for math and logic operations on our data\n",
    "**pandas** --> Used for the storing and basic handing of our data\n",
    "**matplotlib** --> Used for data visualisation, creating plots, graphs, etc\n",
    "**seaborn** --> Used for some of the more complex data visualisation than matplotlib usually handles"
   ]
  },
  {
   "cell_type": "code",
   "execution_count": 47,
   "id": "c13369d7-9cdc-4a2d-9200-3da77f0321b7",
   "metadata": {},
   "outputs": [],
   "source": [
    "import numpy as np\n",
    "import pandas as pd\n",
    "import matplotlib.pyplot as plt\n",
    "import seaborn as sns\n",
    "color = sns.color_palette()\n",
    "\n",
    "%matplotlib inline\n",
    "\n",
    "pd.options.mode.chained_assignment = None\n",
    "pd.options.display.max_columns = 999"
   ]
  },
  {
   "cell_type": "code",
   "execution_count": 48,
   "id": "35f85236-e67b-4dad-b2e9-f3302e841044",
   "metadata": {
    "scrolled": true
   },
   "outputs": [],
   "source": [
    "train_df = pd.read_csv(\"train_2016_2v.csv\", parse_dates=[\"transactiondate\"])"
   ]
  },
  {
   "cell_type": "code",
   "execution_count": 49,
   "id": "cede30f2",
   "metadata": {},
   "outputs": [
    {
     "data": {
      "text/html": [
       "<div>\n",
       "<style scoped>\n",
       "    .dataframe tbody tr th:only-of-type {\n",
       "        vertical-align: middle;\n",
       "    }\n",
       "\n",
       "    .dataframe tbody tr th {\n",
       "        vertical-align: top;\n",
       "    }\n",
       "\n",
       "    .dataframe thead th {\n",
       "        text-align: right;\n",
       "    }\n",
       "</style>\n",
       "<table border=\"1\" class=\"dataframe\">\n",
       "  <thead>\n",
       "    <tr style=\"text-align: right;\">\n",
       "      <th></th>\n",
       "      <th>id</th>\n",
       "      <th>parcelid</th>\n",
       "      <th>logerror</th>\n",
       "      <th>transactiondate</th>\n",
       "    </tr>\n",
       "  </thead>\n",
       "  <tbody>\n",
       "    <tr>\n",
       "      <th>0</th>\n",
       "      <td>0</td>\n",
       "      <td>11016594</td>\n",
       "      <td>0.0276</td>\n",
       "      <td>2016-01-01</td>\n",
       "    </tr>\n",
       "    <tr>\n",
       "      <th>1</th>\n",
       "      <td>1</td>\n",
       "      <td>14366692</td>\n",
       "      <td>-0.1684</td>\n",
       "      <td>2016-01-01</td>\n",
       "    </tr>\n",
       "    <tr>\n",
       "      <th>2</th>\n",
       "      <td>2</td>\n",
       "      <td>12098116</td>\n",
       "      <td>-0.0040</td>\n",
       "      <td>2016-01-01</td>\n",
       "    </tr>\n",
       "    <tr>\n",
       "      <th>3</th>\n",
       "      <td>3</td>\n",
       "      <td>12643413</td>\n",
       "      <td>0.0218</td>\n",
       "      <td>2016-01-02</td>\n",
       "    </tr>\n",
       "    <tr>\n",
       "      <th>4</th>\n",
       "      <td>4</td>\n",
       "      <td>14432541</td>\n",
       "      <td>-0.0050</td>\n",
       "      <td>2016-01-02</td>\n",
       "    </tr>\n",
       "    <tr>\n",
       "      <th>5</th>\n",
       "      <td>5</td>\n",
       "      <td>11509835</td>\n",
       "      <td>-0.2705</td>\n",
       "      <td>2016-01-02</td>\n",
       "    </tr>\n",
       "    <tr>\n",
       "      <th>6</th>\n",
       "      <td>6</td>\n",
       "      <td>12286022</td>\n",
       "      <td>0.0440</td>\n",
       "      <td>2016-01-02</td>\n",
       "    </tr>\n",
       "    <tr>\n",
       "      <th>7</th>\n",
       "      <td>7</td>\n",
       "      <td>17177301</td>\n",
       "      <td>0.1638</td>\n",
       "      <td>2016-01-02</td>\n",
       "    </tr>\n",
       "    <tr>\n",
       "      <th>8</th>\n",
       "      <td>8</td>\n",
       "      <td>14739064</td>\n",
       "      <td>-0.0030</td>\n",
       "      <td>2016-01-02</td>\n",
       "    </tr>\n",
       "    <tr>\n",
       "      <th>9</th>\n",
       "      <td>9</td>\n",
       "      <td>14677559</td>\n",
       "      <td>0.0843</td>\n",
       "      <td>2016-01-03</td>\n",
       "    </tr>\n",
       "  </tbody>\n",
       "</table>\n",
       "</div>"
      ],
      "text/plain": [
       "   id  parcelid  logerror transactiondate\n",
       "0   0  11016594    0.0276      2016-01-01\n",
       "1   1  14366692   -0.1684      2016-01-01\n",
       "2   2  12098116   -0.0040      2016-01-01\n",
       "3   3  12643413    0.0218      2016-01-02\n",
       "4   4  14432541   -0.0050      2016-01-02\n",
       "5   5  11509835   -0.2705      2016-01-02\n",
       "6   6  12286022    0.0440      2016-01-02\n",
       "7   7  17177301    0.1638      2016-01-02\n",
       "8   8  14739064   -0.0030      2016-01-02\n",
       "9   9  14677559    0.0843      2016-01-03"
      ]
     },
     "execution_count": 49,
     "metadata": {},
     "output_type": "execute_result"
    }
   ],
   "source": [
    "train_df.head(10)"
   ]
  },
  {
   "cell_type": "code",
   "execution_count": 50,
   "id": "4d0ede43",
   "metadata": {},
   "outputs": [
    {
     "data": {
      "image/png": "[encoded data removed]",
      "text/plain": [
       "<Figure size 800x600 with 1 Axes>"
      ]
     },
     "metadata": {},
     "output_type": "display_data"
    }
   ],
   "source": [
    "plt.figure(figsize=(8,6))\n",
    "plt.scatter(range(train_df.shape[0]), np.sort(train_df.logerror.values))\n",
    "plt.xlabel('index', fontsize=12)\n",
    "plt.ylabel('logerror',fontsize=12)\n",
    "plt.show()"
   ]
  }
 ],
 "metadata": {
  "kernelspec": {
   "display_name": "Python 3 (ipykernel)",
   "language": "python",
   "name": "python3"
  },
  "language_info": {
   "codemirror_mode": {
    "name": "ipython",
    "version": 3
   },
   "file_extension": ".py",
   "mimetype": "text/x-python",
   "name": "python",
   "nbconvert_exporter": "python",
   "pygments_lexer": "ipython3",
   "version": "3.11.2"
  }
 },
 "nbformat": 4,
 "nbformat_minor": 5
}
