{
 "cells": [
  {
   "cell_type": "code",
   "execution_count": 1,
   "id": "7206cfcb-c5a6-41a0-b370-a7570ecc42ae",
   "metadata": {},
   "outputs": [
    {
     "name": "stdout",
     "output_type": "stream",
     "text": [
      "Hello world!\n"
     ]
    }
   ],
   "source": [
    "print(\"Hello world!\")"
   ]
  },
  {
   "cell_type": "code",
   "execution_count": 4,
   "id": "11d3b7d4-b933-4d17-94af-1b15046b5a9a",
   "metadata": {},
   "outputs": [
    {
     "name": "stdout",
     "output_type": "stream",
     "text": [
      "print hello world\n"
     ]
    }
   ],
   "source": [
    "print(\"print hello world\")"
   ]
  },
  {
   "cell_type": "markdown",
   "id": "ea494a7f-1794-4c98-94f5-bee578434fae",
   "metadata": {},
   "source": [
    "# Super big title\n",
    "## Big title\n",
    "### Medium title\n",
    "#### Smal title"
   ]
  },
  {
   "cell_type": "markdown",
   "id": "bc4dd2e4-ae8a-48c4-8a55-c613935185b2",
   "metadata": {},
   "source": [
    "This is *italics*\n",
    "This is **bold**"
   ]
  },
  {
   "cell_type": "markdown",
   "id": "c0455a1d-ba3d-4313-a652-c85ac8216bfe",
   "metadata": {},
   "source": [
    "- item 1\n",
    "- item 2\n",
    "- item 3\n",
    "  - subitem 1"
   ]
  },
  {
   "cell_type": "markdown",
   "id": "6dac30c9-649e-4347-9a8a-79a1985691dd",
   "metadata": {},
   "source": [
    "# Zillow Zestimate: Exploretory Data Analysis\n",
    "This will be an Expoloratory Data Analysis(EDA) on the Zillow Zestimate dataset by Vyacheslav"
   ]
  },
  {
   "cell_type": "markdown",
   "id": "bd0e31e7-616c-4a2a-8705-fb1a085fc854",
   "metadata": {},
   "source": [
    "## Imports\n",
    "We'll start by importing the main useful python libraries for doing an EDA. We have a few here:\n",
    "**numpy** --> Used for math and logic operations on our data\n",
    "**pandas** --> Used for the storing and basic handing of our data\n",
    "**matplotlib** --> Used for data visualisation, creating plots, graphs, etc\n",
    "**seaborn** --> Used for some of the more complex data visualisation than matplotlib usually handles"
   ]
  },
  {
   "cell_type": "code",
   "execution_count": 31,
   "id": "c13369d7-9cdc-4a2d-9200-3da77f0321b7",
   "metadata": {},
   "outputs": [],
   "source": [
    "import numpy as np\n",
    "import pandas as pd\n",
    "import matplotlib.pyplot as plt\n",
    "import seaborn as sns\n",
    "color = sns.color_palette()\n",
    "\n",
    "%matplotlib inline\n",
    "\n",
    "pd.options.mode.chained_assignment = None\n",
    "pd.options.display.max_columns = 999"
   ]
  },
  {
   "cell_type": "code",
   "execution_count": null,
   "id": "35f85236-e67b-4dad-b2e9-f3302e841044",
   "metadata": {
    "scrolled": true
   },
   "outputs": [],
   "source": [
    "train_df = pd.read_csv(\"data/train_2016_2v.csv\", parse_dates=[\"transactiondate\"])"
   ]
  },
  {
   "cell_type": "code",
   "execution_count": null,
   "id": "8b7d36a6-aa49-4757-91f8-32c6a08dce94",
   "metadata": {},
   "outputs": [],
   "source": [
    "train_df_head(10)"
   ]
  },
  {
   "cell_type": "code",
   "execution_count": null,
   "id": "edaefe86-946e-4a71-882b-1ef2e63f36ab",
   "metadata": {},
   "outputs": [],
   "source": [
    "plt.figure(figsize=(8,6))\n",
    "plt.scatter(range(train_df_shape[0]), np.sort(train_df.logerror.values))\n",
    "plt.xlabel('index', fontsize=12)\n",
    "plt.ylabel('logerror',fontsize=12)\n",
    "plt.show()"
   ]
  },
  {
   "cell_type": "code",
   "execution_count": null,
   "id": "1d3c75f5-0eea-4266-88cd-7d3bfab18390",
   "metadata": {},
   "outputs": [],
   "source": []
  }
 ],
 "metadata": {
  "kernelspec": {
   "display_name": "Python 3 (ipykernel)",
   "language": "python",
   "name": "python3"
  },
  "language_info": {
   "codemirror_mode": {
    "name": "ipython",
    "version": 3
   },
   "file_extension": ".py",
   "mimetype": "text/x-python",
   "name": "python",
   "nbconvert_exporter": "python",
   "pygments_lexer": "ipython3",
   "version": "3.11.2"
  }
 },
 "nbformat": 4,
 "nbformat_minor": 5
}
